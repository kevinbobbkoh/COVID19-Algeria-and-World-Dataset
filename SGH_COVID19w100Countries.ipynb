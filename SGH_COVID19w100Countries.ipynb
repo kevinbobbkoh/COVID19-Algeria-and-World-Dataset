{
 "cells": [
  {
   "cell_type": "markdown",
   "id": "b709d7dd-cd2d-44b9-81c2-ac582d6a070c",
   "metadata": {},
   "source": [
    "# COVID19 with 100 World Countries"
   ]
  },
  {
   "cell_type": "markdown",
   "id": "6e61ad4e-362e-4d3a-a204-a80035b5897b",
   "metadata": {},
   "source": [
    "## 0. Importing Libraries and Data"
   ]
  },
  {
   "cell_type": "code",
   "execution_count": 1,
   "id": "4045c096-e92d-4927-8233-6fec4a620d19",
   "metadata": {
    "tags": []
   },
   "outputs": [],
   "source": [
    "import pandas as pd\n",
    "import numpy as np\n",
    "import matplotlib.pylab as plt\n",
    "import seaborn as sns\n",
    "import sqlite3\n",
    "plt.style.use('ggplot')"
   ]
  },
  {
   "cell_type": "code",
   "execution_count": 2,
   "id": "f461dc5b-ed7b-4b5c-b82e-ebfc828f483b",
   "metadata": {},
   "outputs": [],
   "source": [
    "df = pd.read_csv('Data.csv')"
   ]
  },
  {
   "cell_type": "markdown",
   "id": "0a5fdfd2-50d9-4e76-bdee-ca2ebf1024d1",
   "metadata": {},
   "source": [
    "## 1. Exploratory Data Analysis and Cleaning"
   ]
  },
  {
   "cell_type": "code",
   "execution_count": 3,
   "id": "8c230aff-bfbd-4c6e-a211-e6e4198addda",
   "metadata": {},
   "outputs": [
    {
     "data": {
      "text/plain": [
       "(38472, 15)"
      ]
     },
     "execution_count": 3,
     "metadata": {},
     "output_type": "execute_result"
    }
   ],
   "source": [
    "df.shape"
   ]
  },
  {
   "cell_type": "code",
   "execution_count": 4,
   "id": "b4cebc93-3c48-4ee3-9140-d29433e9feb5",
   "metadata": {},
   "outputs": [
    {
     "data": {
      "text/html": [
       "<div>\n",
       "<style scoped>\n",
       "    .dataframe tbody tr th:only-of-type {\n",
       "        vertical-align: middle;\n",
       "    }\n",
       "\n",
       "    .dataframe tbody tr th {\n",
       "        vertical-align: top;\n",
       "    }\n",
       "\n",
       "    .dataframe thead th {\n",
       "        text-align: right;\n",
       "    }\n",
       "</style>\n",
       "<table border=\"1\" class=\"dataframe\">\n",
       "  <thead>\n",
       "    <tr style=\"text-align: right;\">\n",
       "      <th></th>\n",
       "      <th>Entity</th>\n",
       "      <th>Continent</th>\n",
       "      <th>Latitude</th>\n",
       "      <th>Longitude</th>\n",
       "      <th>Average temperature per year</th>\n",
       "      <th>Hospital beds per 1000 people</th>\n",
       "      <th>Medical doctors per 1000 people</th>\n",
       "      <th>GDP/Capita</th>\n",
       "      <th>Population</th>\n",
       "      <th>Median age</th>\n",
       "      <th>Population aged 65 and over (%)</th>\n",
       "      <th>Date</th>\n",
       "      <th>Daily tests</th>\n",
       "      <th>Cases</th>\n",
       "      <th>Deaths</th>\n",
       "    </tr>\n",
       "  </thead>\n",
       "  <tbody>\n",
       "    <tr>\n",
       "      <th>0</th>\n",
       "      <td>Albania</td>\n",
       "      <td>Europe</td>\n",
       "      <td>41.15</td>\n",
       "      <td>20.17</td>\n",
       "      <td>14</td>\n",
       "      <td>2.89</td>\n",
       "      <td>1.29</td>\n",
       "      <td>5353.2</td>\n",
       "      <td>2873457</td>\n",
       "      <td>38</td>\n",
       "      <td>14</td>\n",
       "      <td>25/2/2020</td>\n",
       "      <td>8.0</td>\n",
       "      <td>NaN</td>\n",
       "      <td>NaN</td>\n",
       "    </tr>\n",
       "    <tr>\n",
       "      <th>1</th>\n",
       "      <td>Albania</td>\n",
       "      <td>Europe</td>\n",
       "      <td>41.15</td>\n",
       "      <td>20.17</td>\n",
       "      <td>14</td>\n",
       "      <td>2.89</td>\n",
       "      <td>1.29</td>\n",
       "      <td>5353.2</td>\n",
       "      <td>2873457</td>\n",
       "      <td>38</td>\n",
       "      <td>14</td>\n",
       "      <td>26/2/2020</td>\n",
       "      <td>5.0</td>\n",
       "      <td>NaN</td>\n",
       "      <td>NaN</td>\n",
       "    </tr>\n",
       "    <tr>\n",
       "      <th>2</th>\n",
       "      <td>Albania</td>\n",
       "      <td>Europe</td>\n",
       "      <td>41.15</td>\n",
       "      <td>20.17</td>\n",
       "      <td>14</td>\n",
       "      <td>2.89</td>\n",
       "      <td>1.29</td>\n",
       "      <td>5353.2</td>\n",
       "      <td>2873457</td>\n",
       "      <td>38</td>\n",
       "      <td>14</td>\n",
       "      <td>27/2/2020</td>\n",
       "      <td>4.0</td>\n",
       "      <td>NaN</td>\n",
       "      <td>NaN</td>\n",
       "    </tr>\n",
       "    <tr>\n",
       "      <th>3</th>\n",
       "      <td>Albania</td>\n",
       "      <td>Europe</td>\n",
       "      <td>41.15</td>\n",
       "      <td>20.17</td>\n",
       "      <td>14</td>\n",
       "      <td>2.89</td>\n",
       "      <td>1.29</td>\n",
       "      <td>5353.2</td>\n",
       "      <td>2873457</td>\n",
       "      <td>38</td>\n",
       "      <td>14</td>\n",
       "      <td>28/2/2020</td>\n",
       "      <td>1.0</td>\n",
       "      <td>NaN</td>\n",
       "      <td>NaN</td>\n",
       "    </tr>\n",
       "    <tr>\n",
       "      <th>4</th>\n",
       "      <td>Albania</td>\n",
       "      <td>Europe</td>\n",
       "      <td>41.15</td>\n",
       "      <td>20.17</td>\n",
       "      <td>14</td>\n",
       "      <td>2.89</td>\n",
       "      <td>1.29</td>\n",
       "      <td>5353.2</td>\n",
       "      <td>2873457</td>\n",
       "      <td>38</td>\n",
       "      <td>14</td>\n",
       "      <td>29/2/2020</td>\n",
       "      <td>8.0</td>\n",
       "      <td>NaN</td>\n",
       "      <td>NaN</td>\n",
       "    </tr>\n",
       "  </tbody>\n",
       "</table>\n",
       "</div>"
      ],
      "text/plain": [
       "    Entity Continent  Latitude  Longitude  Average temperature per year  \\\n",
       "0  Albania    Europe     41.15      20.17                            14   \n",
       "1  Albania    Europe     41.15      20.17                            14   \n",
       "2  Albania    Europe     41.15      20.17                            14   \n",
       "3  Albania    Europe     41.15      20.17                            14   \n",
       "4  Albania    Europe     41.15      20.17                            14   \n",
       "\n",
       "   Hospital beds per 1000 people  Medical doctors per 1000 people  GDP/Capita  \\\n",
       "0                           2.89                             1.29      5353.2   \n",
       "1                           2.89                             1.29      5353.2   \n",
       "2                           2.89                             1.29      5353.2   \n",
       "3                           2.89                             1.29      5353.2   \n",
       "4                           2.89                             1.29      5353.2   \n",
       "\n",
       "   Population  Median age  Population aged 65 and over (%)       Date  \\\n",
       "0     2873457          38                               14  25/2/2020   \n",
       "1     2873457          38                               14  26/2/2020   \n",
       "2     2873457          38                               14  27/2/2020   \n",
       "3     2873457          38                               14  28/2/2020   \n",
       "4     2873457          38                               14  29/2/2020   \n",
       "\n",
       "   Daily tests  Cases  Deaths  \n",
       "0          8.0    NaN     NaN  \n",
       "1          5.0    NaN     NaN  \n",
       "2          4.0    NaN     NaN  \n",
       "3          1.0    NaN     NaN  \n",
       "4          8.0    NaN     NaN  "
      ]
     },
     "execution_count": 4,
     "metadata": {},
     "output_type": "execute_result"
    }
   ],
   "source": [
    "df.head()"
   ]
  },
  {
   "cell_type": "code",
   "execution_count": 5,
   "id": "2d92d2eb-3512-4e99-9f23-4afeb32ff5d2",
   "metadata": {},
   "outputs": [
    {
     "data": {
      "text/plain": [
       "Index(['Entity', 'Continent', 'Latitude', 'Longitude',\n",
       "       'Average temperature per year', 'Hospital beds per 1000 people',\n",
       "       'Medical doctors per 1000 people', 'GDP/Capita', 'Population',\n",
       "       'Median age', 'Population aged 65 and over (%)', 'Date', 'Daily tests',\n",
       "       'Cases', 'Deaths'],\n",
       "      dtype='object')"
      ]
     },
     "execution_count": 5,
     "metadata": {},
     "output_type": "execute_result"
    }
   ],
   "source": [
    "df.columns"
   ]
  },
  {
   "cell_type": "code",
   "execution_count": 6,
   "id": "32f2d92f-4c42-44e4-bd07-1f36a5466953",
   "metadata": {},
   "outputs": [
    {
     "data": {
      "text/plain": [
       "Entity                              object\n",
       "Continent                           object\n",
       "Latitude                           float64\n",
       "Longitude                          float64\n",
       "Average temperature per year         int64\n",
       "Hospital beds per 1000 people      float64\n",
       "Medical doctors per 1000 people    float64\n",
       "GDP/Capita                         float64\n",
       "Population                           int64\n",
       "Median age                           int64\n",
       "Population aged 65 and over (%)      int64\n",
       "Date                                object\n",
       "Daily tests                        float64\n",
       "Cases                              float64\n",
       "Deaths                             float64\n",
       "dtype: object"
      ]
     },
     "execution_count": 6,
     "metadata": {},
     "output_type": "execute_result"
    }
   ],
   "source": [
    "df.dtypes"
   ]
  },
  {
   "cell_type": "code",
   "execution_count": 7,
   "id": "e6d197a9-4df1-4d88-9bf1-c55e76345a4b",
   "metadata": {},
   "outputs": [
    {
     "data": {
      "text/html": [
       "<div>\n",
       "<style scoped>\n",
       "    .dataframe tbody tr th:only-of-type {\n",
       "        vertical-align: middle;\n",
       "    }\n",
       "\n",
       "    .dataframe tbody tr th {\n",
       "        vertical-align: top;\n",
       "    }\n",
       "\n",
       "    .dataframe thead th {\n",
       "        text-align: right;\n",
       "    }\n",
       "</style>\n",
       "<table border=\"1\" class=\"dataframe\">\n",
       "  <thead>\n",
       "    <tr style=\"text-align: right;\">\n",
       "      <th></th>\n",
       "      <th>Latitude</th>\n",
       "      <th>Longitude</th>\n",
       "      <th>Average temperature per year</th>\n",
       "      <th>Hospital beds per 1000 people</th>\n",
       "      <th>Medical doctors per 1000 people</th>\n",
       "      <th>GDP/Capita</th>\n",
       "      <th>Population</th>\n",
       "      <th>Median age</th>\n",
       "      <th>Population aged 65 and over (%)</th>\n",
       "      <th>Daily tests</th>\n",
       "      <th>Cases</th>\n",
       "      <th>Deaths</th>\n",
       "    </tr>\n",
       "  </thead>\n",
       "  <tbody>\n",
       "    <tr>\n",
       "      <th>count</th>\n",
       "      <td>38472.000000</td>\n",
       "      <td>38472.000000</td>\n",
       "      <td>38472.000000</td>\n",
       "      <td>38472.000000</td>\n",
       "      <td>38472.000000</td>\n",
       "      <td>38472.000000</td>\n",
       "      <td>3.847200e+04</td>\n",
       "      <td>38472.000000</td>\n",
       "      <td>38472.000000</td>\n",
       "      <td>3.057700e+04</td>\n",
       "      <td>3.821800e+04</td>\n",
       "      <td>34862.000000</td>\n",
       "    </tr>\n",
       "    <tr>\n",
       "      <th>mean</th>\n",
       "      <td>23.737060</td>\n",
       "      <td>20.210847</td>\n",
       "      <td>17.717145</td>\n",
       "      <td>3.165305</td>\n",
       "      <td>2.086313</td>\n",
       "      <td>19002.331415</td>\n",
       "      <td>4.896983e+07</td>\n",
       "      <td>32.751508</td>\n",
       "      <td>10.663392</td>\n",
       "      <td>3.944059e+04</td>\n",
       "      <td>2.879027e+05</td>\n",
       "      <td>8090.504733</td>\n",
       "    </tr>\n",
       "    <tr>\n",
       "      <th>std</th>\n",
       "      <td>26.060413</td>\n",
       "      <td>61.074922</td>\n",
       "      <td>8.134926</td>\n",
       "      <td>2.561767</td>\n",
       "      <td>1.518252</td>\n",
       "      <td>22271.107786</td>\n",
       "      <td>1.427251e+08</td>\n",
       "      <td>8.472305</td>\n",
       "      <td>6.770417</td>\n",
       "      <td>1.501847e+05</td>\n",
       "      <td>1.405243e+06</td>\n",
       "      <td>29548.753221</td>\n",
       "    </tr>\n",
       "    <tr>\n",
       "      <th>min</th>\n",
       "      <td>-40.900000</td>\n",
       "      <td>-106.350000</td>\n",
       "      <td>-2.000000</td>\n",
       "      <td>0.200000</td>\n",
       "      <td>0.020000</td>\n",
       "      <td>411.600000</td>\n",
       "      <td>3.412840e+05</td>\n",
       "      <td>16.000000</td>\n",
       "      <td>1.000000</td>\n",
       "      <td>-2.391720e+05</td>\n",
       "      <td>1.000000e+00</td>\n",
       "      <td>1.000000</td>\n",
       "    </tr>\n",
       "    <tr>\n",
       "      <th>25%</th>\n",
       "      <td>8.620000</td>\n",
       "      <td>-3.440000</td>\n",
       "      <td>11.000000</td>\n",
       "      <td>1.400000</td>\n",
       "      <td>0.820000</td>\n",
       "      <td>3659.000000</td>\n",
       "      <td>4.793900e+06</td>\n",
       "      <td>27.000000</td>\n",
       "      <td>5.000000</td>\n",
       "      <td>1.505000e+03</td>\n",
       "      <td>2.074000e+03</td>\n",
       "      <td>77.000000</td>\n",
       "    </tr>\n",
       "    <tr>\n",
       "      <th>50%</th>\n",
       "      <td>27.510000</td>\n",
       "      <td>21.820000</td>\n",
       "      <td>20.000000</td>\n",
       "      <td>2.500000</td>\n",
       "      <td>1.890000</td>\n",
       "      <td>8821.800000</td>\n",
       "      <td>1.148464e+07</td>\n",
       "      <td>32.000000</td>\n",
       "      <td>8.000000</td>\n",
       "      <td>5.520000e+03</td>\n",
       "      <td>2.143100e+04</td>\n",
       "      <td>527.000000</td>\n",
       "    </tr>\n",
       "    <tr>\n",
       "      <th>75%</th>\n",
       "      <td>45.940000</td>\n",
       "      <td>47.480000</td>\n",
       "      <td>25.000000</td>\n",
       "      <td>4.490000</td>\n",
       "      <td>3.210000</td>\n",
       "      <td>25946.200000</td>\n",
       "      <td>4.286296e+07</td>\n",
       "      <td>41.000000</td>\n",
       "      <td>16.000000</td>\n",
       "      <td>2.038200e+04</td>\n",
       "      <td>1.373770e+05</td>\n",
       "      <td>3480.500000</td>\n",
       "    </tr>\n",
       "    <tr>\n",
       "      <th>max</th>\n",
       "      <td>64.960000</td>\n",
       "      <td>179.410000</td>\n",
       "      <td>29.000000</td>\n",
       "      <td>13.050000</td>\n",
       "      <td>7.520000</td>\n",
       "      <td>114704.600000</td>\n",
       "      <td>1.339180e+09</td>\n",
       "      <td>48.000000</td>\n",
       "      <td>28.000000</td>\n",
       "      <td>2.945871e+06</td>\n",
       "      <td>2.860567e+07</td>\n",
       "      <td>513091.000000</td>\n",
       "    </tr>\n",
       "  </tbody>\n",
       "</table>\n",
       "</div>"
      ],
      "text/plain": [
       "           Latitude     Longitude  Average temperature per year  \\\n",
       "count  38472.000000  38472.000000                  38472.000000   \n",
       "mean      23.737060     20.210847                     17.717145   \n",
       "std       26.060413     61.074922                      8.134926   \n",
       "min      -40.900000   -106.350000                     -2.000000   \n",
       "25%        8.620000     -3.440000                     11.000000   \n",
       "50%       27.510000     21.820000                     20.000000   \n",
       "75%       45.940000     47.480000                     25.000000   \n",
       "max       64.960000    179.410000                     29.000000   \n",
       "\n",
       "       Hospital beds per 1000 people  Medical doctors per 1000 people  \\\n",
       "count                   38472.000000                     38472.000000   \n",
       "mean                        3.165305                         2.086313   \n",
       "std                         2.561767                         1.518252   \n",
       "min                         0.200000                         0.020000   \n",
       "25%                         1.400000                         0.820000   \n",
       "50%                         2.500000                         1.890000   \n",
       "75%                         4.490000                         3.210000   \n",
       "max                        13.050000                         7.520000   \n",
       "\n",
       "          GDP/Capita    Population    Median age  \\\n",
       "count   38472.000000  3.847200e+04  38472.000000   \n",
       "mean    19002.331415  4.896983e+07     32.751508   \n",
       "std     22271.107786  1.427251e+08      8.472305   \n",
       "min       411.600000  3.412840e+05     16.000000   \n",
       "25%      3659.000000  4.793900e+06     27.000000   \n",
       "50%      8821.800000  1.148464e+07     32.000000   \n",
       "75%     25946.200000  4.286296e+07     41.000000   \n",
       "max    114704.600000  1.339180e+09     48.000000   \n",
       "\n",
       "       Population aged 65 and over (%)   Daily tests         Cases  \\\n",
       "count                     38472.000000  3.057700e+04  3.821800e+04   \n",
       "mean                         10.663392  3.944059e+04  2.879027e+05   \n",
       "std                           6.770417  1.501847e+05  1.405243e+06   \n",
       "min                           1.000000 -2.391720e+05  1.000000e+00   \n",
       "25%                           5.000000  1.505000e+03  2.074000e+03   \n",
       "50%                           8.000000  5.520000e+03  2.143100e+04   \n",
       "75%                          16.000000  2.038200e+04  1.373770e+05   \n",
       "max                          28.000000  2.945871e+06  2.860567e+07   \n",
       "\n",
       "              Deaths  \n",
       "count   34862.000000  \n",
       "mean     8090.504733  \n",
       "std     29548.753221  \n",
       "min         1.000000  \n",
       "25%        77.000000  \n",
       "50%       527.000000  \n",
       "75%      3480.500000  \n",
       "max    513091.000000  "
      ]
     },
     "execution_count": 7,
     "metadata": {},
     "output_type": "execute_result"
    }
   ],
   "source": [
    "df.describe()"
   ]
  },
  {
   "cell_type": "code",
   "execution_count": 8,
   "id": "e0fa49ea-0cd4-4101-b309-1ef8f2439978",
   "metadata": {},
   "outputs": [],
   "source": [
    "# Re-typing \"Date\" column to datetime dtype\n",
    "df['Date'] = pd.to_datetime(df['Date'], format='%d/%m/%Y')"
   ]
  },
  {
   "cell_type": "code",
   "execution_count": 9,
   "id": "e3fb8d8e-0503-4fef-b022-ce9a81aad957",
   "metadata": {},
   "outputs": [],
   "source": [
    "# Renaming columns for easier reference and use\n",
    "df = df.rename(columns= {\n",
    "    'Entity': 'Country',\n",
    "    'Average temperature per year': 'AvgTemp',\n",
    "    'Hospital beds per 1000 people': 'HospitalBeds',\n",
    "    'Medical doctors per 1000 people': 'Doctors',\n",
    "    'GDP/Capita': 'GDPPerCapita',\n",
    "    'Median age': 'MedianAge',\n",
    "    'Population aged 65 and over (%)': 'PctOver65',\n",
    "    'Daily tests': 'DailyTests'\n",
    "})"
   ]
  },
  {
   "cell_type": "code",
   "execution_count": 10,
   "id": "365fee4d-0a62-4b43-a2cb-69beed15d619",
   "metadata": {},
   "outputs": [
    {
     "data": {
      "text/plain": [
       "Country            0\n",
       "Continent          0\n",
       "Latitude           0\n",
       "Longitude          0\n",
       "AvgTemp            0\n",
       "HospitalBeds       0\n",
       "Doctors            0\n",
       "GDPPerCapita       0\n",
       "Population         0\n",
       "MedianAge          0\n",
       "PctOver65          0\n",
       "Date               0\n",
       "DailyTests      7895\n",
       "Cases            254\n",
       "Deaths          3610\n",
       "dtype: int64"
      ]
     },
     "execution_count": 10,
     "metadata": {},
     "output_type": "execute_result"
    }
   ],
   "source": [
    "# Checking for null records\n",
    "df.isna().sum()"
   ]
  },
  {
   "cell_type": "code",
   "execution_count": 11,
   "id": "3cf93aaa-d8e1-4178-808d-8414aa01f6ef",
   "metadata": {},
   "outputs": [
    {
     "data": {
      "text/html": [
       "<div>\n",
       "<style scoped>\n",
       "    .dataframe tbody tr th:only-of-type {\n",
       "        vertical-align: middle;\n",
       "    }\n",
       "\n",
       "    .dataframe tbody tr th {\n",
       "        vertical-align: top;\n",
       "    }\n",
       "\n",
       "    .dataframe thead th {\n",
       "        text-align: right;\n",
       "    }\n",
       "</style>\n",
       "<table border=\"1\" class=\"dataframe\">\n",
       "  <thead>\n",
       "    <tr style=\"text-align: right;\">\n",
       "      <th></th>\n",
       "      <th>Country</th>\n",
       "      <th>Continent</th>\n",
       "      <th>Latitude</th>\n",
       "      <th>Longitude</th>\n",
       "      <th>AvgTemp</th>\n",
       "      <th>HospitalBeds</th>\n",
       "      <th>Doctors</th>\n",
       "      <th>GDPPerCapita</th>\n",
       "      <th>Population</th>\n",
       "      <th>MedianAge</th>\n",
       "      <th>PctOver65</th>\n",
       "      <th>Date</th>\n",
       "      <th>DailyTests</th>\n",
       "      <th>Cases</th>\n",
       "      <th>Deaths</th>\n",
       "    </tr>\n",
       "  </thead>\n",
       "  <tbody>\n",
       "  </tbody>\n",
       "</table>\n",
       "</div>"
      ],
      "text/plain": [
       "Empty DataFrame\n",
       "Columns: [Country, Continent, Latitude, Longitude, AvgTemp, HospitalBeds, Doctors, GDPPerCapita, Population, MedianAge, PctOver65, Date, DailyTests, Cases, Deaths]\n",
       "Index: []"
      ]
     },
     "execution_count": 11,
     "metadata": {},
     "output_type": "execute_result"
    }
   ],
   "source": [
    "# Checking for duplicates\n",
    "df.loc[df.duplicated()]"
   ]
  },
  {
   "cell_type": "code",
   "execution_count": 12,
   "id": "8c1082ca-e559-496c-8223-f7e6e6e7335e",
   "metadata": {},
   "outputs": [],
   "source": [
    "# Replaceing null values with 0 and filtering for records with at least 1 daily test\n",
    "df = df[df['DailyTests']>0].fillna(0)"
   ]
  },
  {
   "cell_type": "code",
   "execution_count": 13,
   "id": "8c2f9888-2268-4226-a23a-f43c95963e55",
   "metadata": {},
   "outputs": [
    {
     "data": {
      "text/plain": [
       "min   2020-01-01\n",
       "max   2021-02-26\n",
       "Name: Date, dtype: datetime64[ns]"
      ]
     },
     "execution_count": 13,
     "metadata": {},
     "output_type": "execute_result"
    }
   ],
   "source": [
    "# Understanding range of dates\n",
    "df['Date'].agg(['min', 'max'])"
   ]
  },
  {
   "cell_type": "code",
   "execution_count": 14,
   "id": "c612a81b-d89b-4af4-9a74-65b284648e32",
   "metadata": {},
   "outputs": [
    {
     "data": {
      "text/plain": [
       "Mexico         421\n",
       "Thailand       414\n",
       "Switzerland    397\n",
       "Argentina      396\n",
       "Japan          384\n",
       "Name: Country, dtype: int64"
      ]
     },
     "execution_count": 14,
     "metadata": {},
     "output_type": "execute_result"
    }
   ],
   "source": [
    "df['Country'].value_counts().head()"
   ]
  },
  {
   "cell_type": "markdown",
   "id": "64f6c4c0-9152-4b1a-a327-731079718942",
   "metadata": {},
   "source": [
    "## 2. Exporting to normalised tables into SQLite3 DB"
   ]
  },
  {
   "cell_type": "code",
   "execution_count": 15,
   "id": "e540ad86-b7b2-422d-b75a-004f468bf4c8",
   "metadata": {},
   "outputs": [
    {
     "data": {
      "text/html": [
       "<div>\n",
       "<style scoped>\n",
       "    .dataframe tbody tr th:only-of-type {\n",
       "        vertical-align: middle;\n",
       "    }\n",
       "\n",
       "    .dataframe tbody tr th {\n",
       "        vertical-align: top;\n",
       "    }\n",
       "\n",
       "    .dataframe thead th {\n",
       "        text-align: right;\n",
       "    }\n",
       "</style>\n",
       "<table border=\"1\" class=\"dataframe\">\n",
       "  <thead>\n",
       "    <tr style=\"text-align: right;\">\n",
       "      <th></th>\n",
       "      <th>Continent</th>\n",
       "      <th>Latitude</th>\n",
       "      <th>Longitude</th>\n",
       "      <th>AvgTemp</th>\n",
       "      <th>HospitalBeds</th>\n",
       "      <th>Doctors</th>\n",
       "      <th>GDPPerCapita</th>\n",
       "      <th>Population</th>\n",
       "      <th>MedianAge</th>\n",
       "      <th>PctOver65</th>\n",
       "    </tr>\n",
       "    <tr>\n",
       "      <th>Country</th>\n",
       "      <th></th>\n",
       "      <th></th>\n",
       "      <th></th>\n",
       "      <th></th>\n",
       "      <th></th>\n",
       "      <th></th>\n",
       "      <th></th>\n",
       "      <th></th>\n",
       "      <th></th>\n",
       "      <th></th>\n",
       "    </tr>\n",
       "  </thead>\n",
       "  <tbody>\n",
       "    <tr>\n",
       "      <th>Albania</th>\n",
       "      <td>Europe</td>\n",
       "      <td>41.15</td>\n",
       "      <td>20.17</td>\n",
       "      <td>14</td>\n",
       "      <td>2.89</td>\n",
       "      <td>1.29</td>\n",
       "      <td>5353.2</td>\n",
       "      <td>2873457</td>\n",
       "      <td>38</td>\n",
       "      <td>14</td>\n",
       "    </tr>\n",
       "    <tr>\n",
       "      <th>Algeria</th>\n",
       "      <td>Africa</td>\n",
       "      <td>28.03</td>\n",
       "      <td>1.66</td>\n",
       "      <td>25</td>\n",
       "      <td>1.90</td>\n",
       "      <td>1.83</td>\n",
       "      <td>3974.0</td>\n",
       "      <td>41318142</td>\n",
       "      <td>29</td>\n",
       "      <td>6</td>\n",
       "    </tr>\n",
       "    <tr>\n",
       "      <th>Argentina</th>\n",
       "      <td>South America</td>\n",
       "      <td>-38.42</td>\n",
       "      <td>-63.62</td>\n",
       "      <td>14</td>\n",
       "      <td>5.00</td>\n",
       "      <td>3.91</td>\n",
       "      <td>9912.3</td>\n",
       "      <td>44271041</td>\n",
       "      <td>31</td>\n",
       "      <td>11</td>\n",
       "    </tr>\n",
       "    <tr>\n",
       "      <th>Armenia</th>\n",
       "      <td>Europe</td>\n",
       "      <td>40.07</td>\n",
       "      <td>45.04</td>\n",
       "      <td>11</td>\n",
       "      <td>4.20</td>\n",
       "      <td>2.80</td>\n",
       "      <td>4622.7</td>\n",
       "      <td>2930450</td>\n",
       "      <td>35</td>\n",
       "      <td>11</td>\n",
       "    </tr>\n",
       "    <tr>\n",
       "      <th>Australia</th>\n",
       "      <td>Oceania</td>\n",
       "      <td>-25.27</td>\n",
       "      <td>133.78</td>\n",
       "      <td>22</td>\n",
       "      <td>3.84</td>\n",
       "      <td>3.50</td>\n",
       "      <td>55060.3</td>\n",
       "      <td>24598933</td>\n",
       "      <td>37</td>\n",
       "      <td>16</td>\n",
       "    </tr>\n",
       "  </tbody>\n",
       "</table>\n",
       "</div>"
      ],
      "text/plain": [
       "               Continent  Latitude  Longitude  AvgTemp  HospitalBeds  Doctors  \\\n",
       "Country                                                                         \n",
       "Albania           Europe     41.15      20.17       14          2.89     1.29   \n",
       "Algeria           Africa     28.03       1.66       25          1.90     1.83   \n",
       "Argentina  South America    -38.42     -63.62       14          5.00     3.91   \n",
       "Armenia           Europe     40.07      45.04       11          4.20     2.80   \n",
       "Australia        Oceania    -25.27     133.78       22          3.84     3.50   \n",
       "\n",
       "           GDPPerCapita  Population  MedianAge  PctOver65  \n",
       "Country                                                    \n",
       "Albania          5353.2     2873457         38         14  \n",
       "Algeria          3974.0    41318142         29          6  \n",
       "Argentina        9912.3    44271041         31         11  \n",
       "Armenia          4622.7     2930450         35         11  \n",
       "Australia       55060.3    24598933         37         16  "
      ]
     },
     "execution_count": 15,
     "metadata": {},
     "output_type": "execute_result"
    }
   ],
   "source": [
    "# Slicing DimCountries from df; adding CountryID column for easier reference\n",
    "DimCountries = df.loc[:, 'Country':'PctOver65'].drop_duplicates()\n",
    "DimCountries.set_index('Country', drop=True, inplace=True)\n",
    "DimCountries.head()"
   ]
  },
  {
   "cell_type": "code",
   "execution_count": 16,
   "id": "4e8c7e92-dc7a-4a62-be9c-c3ed8c0c8a8c",
   "metadata": {},
   "outputs": [
    {
     "data": {
      "text/html": [
       "<div>\n",
       "<style scoped>\n",
       "    .dataframe tbody tr th:only-of-type {\n",
       "        vertical-align: middle;\n",
       "    }\n",
       "\n",
       "    .dataframe tbody tr th {\n",
       "        vertical-align: top;\n",
       "    }\n",
       "\n",
       "    .dataframe thead th {\n",
       "        text-align: right;\n",
       "    }\n",
       "</style>\n",
       "<table border=\"1\" class=\"dataframe\">\n",
       "  <thead>\n",
       "    <tr style=\"text-align: right;\">\n",
       "      <th></th>\n",
       "      <th>Country</th>\n",
       "      <th>Date</th>\n",
       "      <th>DailyTests</th>\n",
       "      <th>Cases</th>\n",
       "      <th>Deaths</th>\n",
       "    </tr>\n",
       "    <tr>\n",
       "      <th>RecordID</th>\n",
       "      <th></th>\n",
       "      <th></th>\n",
       "      <th></th>\n",
       "      <th></th>\n",
       "      <th></th>\n",
       "    </tr>\n",
       "  </thead>\n",
       "  <tbody>\n",
       "    <tr>\n",
       "      <th>0</th>\n",
       "      <td>Albania</td>\n",
       "      <td>2020-02-25</td>\n",
       "      <td>8.0</td>\n",
       "      <td>0.0</td>\n",
       "      <td>0.0</td>\n",
       "    </tr>\n",
       "    <tr>\n",
       "      <th>1</th>\n",
       "      <td>Albania</td>\n",
       "      <td>2020-02-26</td>\n",
       "      <td>5.0</td>\n",
       "      <td>0.0</td>\n",
       "      <td>0.0</td>\n",
       "    </tr>\n",
       "    <tr>\n",
       "      <th>2</th>\n",
       "      <td>Albania</td>\n",
       "      <td>2020-02-27</td>\n",
       "      <td>4.0</td>\n",
       "      <td>0.0</td>\n",
       "      <td>0.0</td>\n",
       "    </tr>\n",
       "    <tr>\n",
       "      <th>3</th>\n",
       "      <td>Albania</td>\n",
       "      <td>2020-02-28</td>\n",
       "      <td>1.0</td>\n",
       "      <td>0.0</td>\n",
       "      <td>0.0</td>\n",
       "    </tr>\n",
       "    <tr>\n",
       "      <th>4</th>\n",
       "      <td>Albania</td>\n",
       "      <td>2020-02-29</td>\n",
       "      <td>8.0</td>\n",
       "      <td>0.0</td>\n",
       "      <td>0.0</td>\n",
       "    </tr>\n",
       "  </tbody>\n",
       "</table>\n",
       "</div>"
      ],
      "text/plain": [
       "          Country       Date  DailyTests  Cases  Deaths\n",
       "RecordID                                               \n",
       "0         Albania 2020-02-25         8.0    0.0     0.0\n",
       "1         Albania 2020-02-26         5.0    0.0     0.0\n",
       "2         Albania 2020-02-27         4.0    0.0     0.0\n",
       "3         Albania 2020-02-28         1.0    0.0     0.0\n",
       "4         Albania 2020-02-29         8.0    0.0     0.0"
      ]
     },
     "execution_count": 16,
     "metadata": {},
     "output_type": "execute_result"
    }
   ],
   "source": [
    "# Subsetting FactCovid from df\n",
    "FactCovid = pd.concat([df['Country'], df.loc[:, 'Date':'Deaths']], axis=1)\n",
    "FactCovid.index.name = 'RecordID'\n",
    "FactCovid.head()"
   ]
  },
  {
   "cell_type": "code",
   "execution_count": 17,
   "id": "1975ea40-098f-4b9a-8171-2c5da7c69a15",
   "metadata": {},
   "outputs": [
    {
     "data": {
      "text/plain": [
       "30565"
      ]
     },
     "execution_count": 17,
     "metadata": {},
     "output_type": "execute_result"
    }
   ],
   "source": [
    "# Importing into SQLite3 DB\n",
    "conn = sqlite3.connect(':memory:')\n",
    "DimCountries.to_sql(name='DimCountries', con=conn)\n",
    "FactCovid.to_sql(name='FactCovid', con=conn)"
   ]
  },
  {
   "cell_type": "markdown",
   "id": "8869e285-db40-4452-a463-0f994bf827c1",
   "metadata": {},
   "source": [
    "## 3. Generation of Data Visualisations"
   ]
  },
  {
   "cell_type": "code",
   "execution_count": 68,
   "id": "ab31ea9a-07b6-421c-bd8a-51694f01512c",
   "metadata": {},
   "outputs": [
    {
     "data": {
      "text/plain": [
       "<seaborn.axisgrid.FacetGrid at 0x201a13d79d0>"
      ]
     },
     "execution_count": 68,
     "metadata": {},
     "output_type": "execute_result"
    },
    {
     "data": {
      "image/png": "[encoded data removed]",
      "text/plain": [
       "<Figure size 1080x720 with 6 Axes>"
      ]
     },
     "metadata": {
      "needs_background": "light"
     },
     "output_type": "display_data"
    }
   ],
   "source": [
    "CorrMatrix = pd.read_sql('select d.Country, d.Continent, d.AvgTemp, d.GDPPerCapita, SUM(f.DailyTests) as TotalTests, SUM(f.Deaths) / 1000000 as TotalDeaths from DimCountries as d join FactCovid as f on d.Country = f.Country where f.Deaths > 0 group by d.Country' ,\n",
    "                        conn)\n",
    "dv1 = sns.lmplot(data=CorrMatrix,\n",
    "          x='GDPPerCapita',\n",
    "          y='TotalDeaths',\n",
    "          col='Continent',\n",
    "          hue='Continent',\n",
    "          col_wrap=3)"
   ]
  },
  {
   "cell_type": "code",
   "execution_count": 88,
   "id": "ec6be026-824f-49f6-98b7-a62a761b0671",
   "metadata": {},
   "outputs": [
    {
     "data": {
      "image/png": "[encoded data removed]",
      "text/plain": [
       "<Figure size 432x288 with 1 Axes>"
      ]
     },
     "metadata": {
      "needs_background": "light"
     },
     "output_type": "display_data"
    }
   ],
   "source": [
    "TimeData = pd.read_sql('select d.Continent, f.Date, SUM(f.Cases) as DailyCases from DimCountries as d join FactCovid as f on d.Country = f.Country group by f.date, d.Continent',\n",
    "                      conn)\n",
    "TimeData['Date'] = pd.to_datetime(TimeData['Date']).dt.normalize()\n",
    "\n",
    "dv2 = sns.lineplot(data=TimeData, x='Date', y='DailyCases', hue='Continent')"
   ]
  },
  {
   "cell_type": "code",
   "execution_count": 122,
   "id": "6bc90ec1-832f-49a6-a000-678c30b13691",
   "metadata": {},
   "outputs": [
    {
     "data": {
      "text/plain": [
       "<AxesSubplot:xlabel='Date', ylabel='DailyTests'>"
      ]
     },
     "execution_count": 122,
     "metadata": {},
     "output_type": "execute_result"
    },
    {
     "data": {
      "image/png": "[encoded data removed]",
      "text/plain": [
       "<Figure size 432x288 with 1 Axes>"
      ]
     },
     "metadata": {
      "needs_background": "light"
     },
     "output_type": "display_data"
    }
   ],
   "source": [
    "CovidMY = pd.read_sql('select Country, Date, DailyTests from FactCovid where Country = \"Malaysia\"', conn)\n",
    "CovidMY['Date'] = pd.to_datetime(CovidUS['Date']).dt.normalize()\n",
    "CovidMY['7DMA'] = CovidMY['DailyTests'].rolling(7).mean()\n",
    "\n",
    "dv3 = sns.lineplot(data=CovidMY, x='Date', y='DailyTests', label='Daily Tests')\n",
    "sns.lineplot(data=CovidMY, x='Date', y='7DMA', label='7-Day Moving Average')"
   ]
  },
  {
   "cell_type": "code",
   "execution_count": null,
   "id": "20a0f233-5ba4-4dac-a311-e88680b3cf66",
   "metadata": {},
   "outputs": [],
   "source": []
  }
 ],
 "metadata": {
  "kernelspec": {
   "display_name": "Python 3 (ipykernel)",
   "language": "python",
   "name": "python3"
  },
  "language_info": {
   "codemirror_mode": {
    "name": "ipython",
    "version": 3
   },
   "file_extension": ".py",
   "mimetype": "text/x-python",
   "name": "python",
   "nbconvert_exporter": "python",
   "pygments_lexer": "ipython3",
   "version": "3.10.6"
  }
 },
 "nbformat": 4,
 "nbformat_minor": 5
}
